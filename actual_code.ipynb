{
 "cells": [
  {
   "cell_type": "code",
   "execution_count": 3,
   "metadata": {},
   "outputs": [
    {
     "name": "stdin",
     "output_type": "stream",
     "text": [
      "Please type in your name:  Kar\n"
     ]
    },
    {
     "name": "stdout",
     "output_type": "stream",
     "text": [
      "Hello, Kar !\n"
     ]
    },
    {
     "name": "stdin",
     "output_type": "stream",
     "text": [
      "Please type in your age:  18\n"
     ]
    },
    {
     "name": "stdout",
     "output_type": "stream",
     "text": [
      "Kar if you were a dog you'd be 126 years old!\n"
     ]
    }
   ],
   "source": [
    "# made name a variable, asked for name input\n",
    "name = input(\"Please type in your name: \")\n",
    "# takes some other input \n",
    "# does something with both inputs\n",
    "print(\"Hello,\", name,\"!\")\n",
    "\n",
    "#made age a variable to do something with\n",
    "age = int(input(\"Please type in your age: \"))\n",
    "num = int(7)\n",
    "dogage = age * num\n",
    "print(name, \"if you were a dog you'd be\", dogage, \"years old!\")"
   ]
  },
  {
   "cell_type": "code",
   "execution_count": null,
   "metadata": {},
   "outputs": [],
   "source": []
  }
 ],
 "metadata": {
  "kernelspec": {
   "display_name": "Python 3",
   "language": "python",
   "name": "python3"
  },
  "language_info": {
   "codemirror_mode": {
    "name": "ipython",
    "version": 3
   },
   "file_extension": ".py",
   "mimetype": "text/x-python",
   "name": "python",
   "nbconvert_exporter": "python",
   "pygments_lexer": "ipython3",
   "version": "3.8.3"
  }
 },
 "nbformat": 4,
 "nbformat_minor": 4
}
